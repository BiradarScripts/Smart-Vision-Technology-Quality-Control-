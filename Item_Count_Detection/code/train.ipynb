{
 "cells": [
  {
   "cell_type": "code",
   "execution_count": null,
   "metadata": {
    "vscode": {
     "languageId": "plaintext"
    }
   },
   "outputs": [],
   "source": [
    "# Install YOLOv5 dependencies\n",
    "!pip install torch torchvision matplotlib\n",
    "!git clone https://github.com/ultralytics/yolov5.git\n",
    "cd yolov5\n",
    "\n",
    "# Train YOLOv5 on custom dataset\n",
    "!python train.py --data your_dataset.yaml --epochs 50 --weights yolov5s.pt\n"
   ]
  }
 ],
 "metadata": {
  "language_info": {
   "name": "python"
  }
 },
 "nbformat": 4,
 "nbformat_minor": 2
}
