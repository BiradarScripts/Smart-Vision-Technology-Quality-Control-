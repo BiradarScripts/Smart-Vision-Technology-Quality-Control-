{
  "nbformat": 4,
  "nbformat_minor": 0,
  "metadata": {
    "colab": {
      "provenance": [],
      "gpuType": "T4"
    },
    "kernelspec": {
      "name": "python3",
      "display_name": "Python 3"
    },
    "language_info": {
      "name": "python"
    },
    "accelerator": "GPU"
  },
  "cells": [
    {
      "cell_type": "code",
      "source": [
        "pip install verovio tiktoken"
      ],
      "metadata": {
        "colab": {
          "base_uri": "https://localhost:8080/"
        },
        "id": "oY9VAK8HhycE",
        "outputId": "dec77738-7d82-4fdb-e7a0-512321b3faeb"
      },
      "execution_count": null,
      "outputs": [
        {
          "output_type": "stream",
          "name": "stdout",
          "text": [
            "Requirement already satisfied: verovio in /usr/local/lib/python3.10/dist-packages (4.3.1)\n",
            "Requirement already satisfied: tiktoken in /usr/local/lib/python3.10/dist-packages (0.8.0)\n",
            "Requirement already satisfied: regex>=2022.1.18 in /usr/local/lib/python3.10/dist-packages (from tiktoken) (2024.9.11)\n",
            "Requirement already satisfied: requests>=2.26.0 in /usr/local/lib/python3.10/dist-packages (from tiktoken) (2.32.3)\n",
            "Requirement already satisfied: charset-normalizer<4,>=2 in /usr/local/lib/python3.10/dist-packages (from requests>=2.26.0->tiktoken) (3.3.2)\n",
            "Requirement already satisfied: idna<4,>=2.5 in /usr/local/lib/python3.10/dist-packages (from requests>=2.26.0->tiktoken) (3.10)\n",
            "Requirement already satisfied: urllib3<3,>=1.21.1 in /usr/local/lib/python3.10/dist-packages (from requests>=2.26.0->tiktoken) (2.2.3)\n",
            "Requirement already satisfied: certifi>=2017.4.17 in /usr/local/lib/python3.10/dist-packages (from requests>=2.26.0->tiktoken) (2024.8.30)\n"
          ]
        }
      ]
    },
    {
      "cell_type": "code",
      "source": [
        "import torch\n",
        "from transformers import AutoModel, AutoTokenizer\n",
        "\n",
        "# Set the device to 'cuda' since Colab has GPU support\n",
        "device = torch.device(\"cuda\" if torch.cuda.is_available() else \"cpu\")\n",
        "\n",
        "# Load model and tokenizer, and move the model to the GPU\n",
        "model_name = \"stepfun-ai/GOT-OCR2_0\"\n",
        "model = AutoModel.from_pretrained(model_name, trust_remote_code=True).to(device)\n",
        "tokenizer = AutoTokenizer.from_pretrained(model_name, trust_remote_code=True)\n",
        "\n",
        "# Define the image file path\n",
        "image_file = '/content/obj1.png'\n",
        "\n",
        "# Ensure all operations in chat are on the CUDA device\n",
        "res = model.chat(tokenizer, image_file, ocr_type='ocr')\n",
        "\n",
        "print(res)\n"
      ],
      "metadata": {
        "colab": {
          "base_uri": "https://localhost:8080/"
        },
        "id": "EhTqi2nohwJB",
        "outputId": "3f1257e3-86ce-4193-f3cb-de5663f97c8b"
      },
      "execution_count": null,
      "outputs": [
        {
          "output_type": "stream",
          "name": "stderr",
          "text": [
            "The attention mask and the pad token id were not set. As a consequence, you may observe unexpected behavior. Please pass your input's `attention_mask` to obtain reliable results.\n",
            "Setting `pad_token_id` to `eos_token_id`:151643 for open-end generation.\n"
          ]
        },
        {
          "output_type": "stream",
          "name": "stdout",
          "text": [
            "G4AGU041\n",
            "12/2021\n",
            "11/2023\n",
            "85.00\n"
          ]
        }
      ]
    },
    {
      "cell_type": "code",
      "source": [
        "# Define the image file path\n",
        "image_file2 = '/content/obj3.png'\n",
        "\n",
        "# Ensure all operations in chat are on the CUDA device\n",
        "res = model.chat(tokenizer, image_file2, ocr_type='ocr')\n",
        "\n",
        "print(res)"
      ],
      "metadata": {
        "colab": {
          "base_uri": "https://localhost:8080/"
        },
        "id": "ETkzxSi_iRTw",
        "outputId": "45652204-0261-4dda-f429-89f9953f068a"
      },
      "execution_count": null,
      "outputs": [
        {
          "output_type": "stream",
          "name": "stderr",
          "text": [
            "The attention mask and the pad token id were not set. As a consequence, you may observe unexpected behavior. Please pass your input's `attention_mask` to obtain reliable results.\n",
            "Setting `pad_token_id` to `eos_token_id`:151643 for open-end generation.\n"
          ]
        },
        {
          "output_type": "stream",
          "name": "stdout",
          "text": [
            "B.No.GS21755 MFD.JUL.22\n",
            "EXP.JUN.24 M.R.P.RS.46.75 FOR\n",
            "10 TABS. (INCL.OFALL TAXES)\n"
          ]
        }
      ]
    },
    {
      "cell_type": "code",
      "source": [
        "# Define the image file path\n",
        "image_file3 = '/content/obj5.png'\n",
        "\n",
        "# Ensure all operations in chat are on the CUDA device\n",
        "res = model.chat(tokenizer, image_file3, ocr_type='ocr')\n",
        "\n",
        "print(res)"
      ],
      "metadata": {
        "colab": {
          "base_uri": "https://localhost:8080/"
        },
        "id": "tme99Sozijvr",
        "outputId": "687f7b99-289d-44dd-c936-e4e45db02166"
      },
      "execution_count": null,
      "outputs": [
        {
          "output_type": "stream",
          "name": "stderr",
          "text": [
            "The attention mask and the pad token id were not set. As a consequence, you may observe unexpected behavior. Please pass your input's `attention_mask` to obtain reliable results.\n",
            "Setting `pad_token_id` to `eos_token_id`:151643 for open-end generation.\n"
          ]
        },
        {
          "output_type": "stream",
          "name": "stdout",
          "text": [
            "Broken Wheat 8904293728585 Net Weight 500 g PK D.  Use By Batch No.  M RP ( in cl. of all taxes)  Packed By: Hyper Market Services,  Sy No- 22/1, Begu rH ob li,  Hulimav u main Road, 4 th Cross fsa i Bengaluru- 560076,  Karnataka, India.  Li cNo. 11214334000722 Marketed By: Flip kart India Private Limited,  Buildings Alyssa, Begonia& Clover,  Embassy Tech Village, Outer Ring Road,  Deva rabe es an a hall i Village, Bengaluru,  fsa i Karnataka- 560103, India.  Li cNo. 10018043002295 For Any Complaints/ Queries Refer Marketed by address or please call customer care executive on 1800-208-9898 or drop an email to super mart- feedback@ flip kart. com\n"
          ]
        }
      ]
    },
    {
      "cell_type": "code",
      "source": [
        "image_file2 = '/content/obj3.png'\n",
        "\n",
        "# Ensure all operations in chat are on the CUDA device\n",
        "res = model.chat(tokenizer, image_file2, ocr_type='ocr')\n",
        "\n",
        "print(res)"
      ],
      "metadata": {
        "colab": {
          "base_uri": "https://localhost:8080/"
        },
        "id": "Z6arGg2-jaUZ",
        "outputId": "f1a4477b-995e-41df-8e8a-753b4fab27da"
      },
      "execution_count": null,
      "outputs": [
        {
          "output_type": "stream",
          "name": "stderr",
          "text": [
            "The attention mask and the pad token id were not set. As a consequence, you may observe unexpected behavior. Please pass your input's `attention_mask` to obtain reliable results.\n",
            "Setting `pad_token_id` to `eos_token_id`:151643 for open-end generation.\n"
          ]
        },
        {
          "output_type": "stream",
          "name": "stdout",
          "text": [
            "B.No.GS21755 MFD.JUL.22\n",
            "EXP.JUN.24 M.R.P.RS.46.75 FOR\n",
            "10 TABS. (INCL.OFALL TAXES)\n"
          ]
        }
      ]
    },
    {
      "cell_type": "code",
      "source": [
        "image_file4 = '/content/obj6.png'\n",
        "\n",
        "# Ensure all operations in chat are on the CUDA device\n",
        "res = model.chat(tokenizer, image_file4, ocr_type='ocr')\n",
        "\n",
        "print(res)"
      ],
      "metadata": {
        "colab": {
          "base_uri": "https://localhost:8080/"
        },
        "id": "lQyywNyKzQIh",
        "outputId": "9d89f695-8159-4045-ab0c-2881afc120fa"
      },
      "execution_count": null,
      "outputs": [
        {
          "output_type": "stream",
          "name": "stderr",
          "text": [
            "The attention mask and the pad token id were not set. As a consequence, you may observe unexpected behavior. Please pass your input's `attention_mask` to obtain reliable results.\n",
            "Setting `pad_token_id` to `eos_token_id`:151643 for open-end generation.\n"
          ]
        },
        {
          "output_type": "stream",
          "name": "stdout",
          "text": [
            "PROD: 03 NOV 2022 XP: 03 A I AY 2024 2357 TC R 0311040367\n"
          ]
        }
      ]
    },
    {
      "cell_type": "code",
      "source": [
        "image_file4 = '/content/obj7.png'\n",
        "\n",
        "# Ensure all operations in chat are on the CUDA device\n",
        "res = model.chat(tokenizer, image_file4, ocr_type='ocr')\n",
        "\n",
        "print(res)"
      ],
      "metadata": {
        "colab": {
          "base_uri": "https://localhost:8080/"
        },
        "id": "Jqx-iA1CzhMh",
        "outputId": "4cde8d72-d55b-45d4-fabb-149d221db72c"
      },
      "execution_count": null,
      "outputs": [
        {
          "output_type": "stream",
          "name": "stderr",
          "text": [
            "The attention mask and the pad token id were not set. As a consequence, you may observe unexpected behavior. Please pass your input's `attention_mask` to obtain reliable results.\n",
            "Setting `pad_token_id` to `eos_token_id`:151643 for open-end generation.\n"
          ]
        },
        {
          "output_type": "stream",
          "name": "stdout",
          "text": [
            "FE04E2 05.2022 04.2024 115.3E\n"
          ]
        }
      ]
    },
    {
      "cell_type": "code",
      "source": [
        "image_file4 = '/content/obj10.png'\n",
        "\n",
        "# Ensure all operations in chat are on the CUDA device\n",
        "res = model.chat(tokenizer, image_file4, ocr_type='ocr')\n",
        "\n",
        "print(res)"
      ],
      "metadata": {
        "colab": {
          "base_uri": "https://localhost:8080/"
        },
        "id": "Zm1K55Wb2H7j",
        "outputId": "070eaab5-d447-4b51-c2be-0ec63ce1dcff"
      },
      "execution_count": null,
      "outputs": [
        {
          "output_type": "stream",
          "name": "stderr",
          "text": [
            "The attention mask and the pad token id were not set. As a consequence, you may observe unexpected behavior. Please pass your input's `attention_mask` to obtain reliable results.\n",
            "Setting `pad_token_id` to `eos_token_id`:151643 for open-end generation.\n"
          ]
        },
        {
          "output_type": "stream",
          "name": "stdout",
          "text": [
            "Rs.74.00 B.No.Z361121 MFD.NOV.21 EXP.OCT.23\n"
          ]
        }
      ]
    },
    {
      "cell_type": "code",
      "source": [
        "import re\n",
        "\n",
        "def extract_mrp_and_expiry(text):\n",
        "    # Define regex patterns for MRP and expiry date\n",
        "    mrp_pattern = r'(?i)(?:mrp|m\\.r\\.p|price|rs|₹)\\s*[:\\-]?\\s*([\\d.,]+)'\n",
        "    expiry_pattern = r'(?i)(?:exp|expiry|expires|expiry date|EXP|use by)\\s*[:\\-]?\\s*(\\w+\\s*\\d{1,2}\\s*,?\\s*\\d{2,4}|\\d{1,2}\\s*[-\\/]\\s*\\d{1,2}\\s*[-\\/]?\\s*\\d{2,4})'\n",
        "\n",
        "    # Search for MRP and expiry date in the text\n",
        "    mrp_match = re.search(mrp_pattern, text)\n",
        "    expiry_match = re.search(expiry_pattern, text)\n",
        "\n",
        "    # Extract MRP and expiry date if found\n",
        "    mrp = mrp_match.group(1) if mrp_match else None\n",
        "    expiry_date = expiry_match.group(1) if expiry_match else None\n",
        "\n",
        "    return mrp, expiry_date\n",
        "\n",
        "# Example text input\n",
        "text_input = \"Rs.74.00 B.No.Z361121 MFD.NOV.21 EXP.OCT.23\"\n",
        "mrp, expiry = extract_mrp_and_expiry(text_input)\n",
        "\n",
        "print(\"MRP:\", mrp)\n",
        "print(\"Expiry Date:\", expiry)\n"
      ],
      "metadata": {
        "colab": {
          "base_uri": "https://localhost:8080/"
        },
        "id": "GtQ7OT914VhG",
        "outputId": "48a1aa15-b283-473c-d4e5-8d56b40bbcc0"
      },
      "execution_count": null,
      "outputs": [
        {
          "output_type": "stream",
          "name": "stdout",
          "text": [
            "MRP: .74.00\n",
            "Expiry Date: None\n"
          ]
        }
      ]
    },
    {
      "cell_type": "code",
      "source": [
        "import re\n",
        "\n",
        "def extract_mrp_and_expiry(text):\n",
        "    # Define regex patterns for MRP and expiry date\n",
        "    mrp_pattern = r'(?i)(?:mrp|m\\.r\\.p|price|rs|₹)\\s*[:\\-]?\\s*([\\d.,]+)'\n",
        "    expiry_pattern = r'(?i)(?:exp|expiry|expires|expiry date|EXP|use by)\\s*[:\\-]?\\s*(\\w+\\s*\\d{1,2}\\s*,?\\s*\\d{2,4}|\\d{1,2}\\s*[-\\/]\\s*\\d{1,2}\\s*[-\\/]?\\s*\\d{2,4})'\n",
        "\n",
        "    # Search for MRP and expiry date in the text\n",
        "    mrp_match = re.search(mrp_pattern, text)\n",
        "    expiry_match = re.search(expiry_pattern, text)\n",
        "\n",
        "    # Extract MRP and expiry date if found\n",
        "    mrp = mrp_match.group(1) if mrp_match else None\n",
        "    expiry_date = expiry_match.group(1) if expiry_match else None\n",
        "\n",
        "    return mrp, expiry_date\n",
        "\n",
        "# Example text input\n",
        "text_input = \"Rs.74.00 B.No.Z361121 MFD.NOV.21 EXP.OCT.23\"\n",
        "mrp, expiry = extract_mrp_and_expiry(text_input)\n",
        "\n",
        "print(\"MRP:\", mrp)\n",
        "print(\"Expiry Date:\", expiry)"
      ],
      "metadata": {
        "colab": {
          "base_uri": "https://localhost:8080/"
        },
        "id": "NHt1JKQC8-nw",
        "outputId": "8972f6de-8c40-4df9-9186-573de70d944c"
      },
      "execution_count": null,
      "outputs": [
        {
          "output_type": "stream",
          "name": "stdout",
          "text": [
            "MRP: .74.00\n",
            "Expiry Date: None\n"
          ]
        }
      ]
    },
    {
      "cell_type": "code",
      "source": [
        "import re\n",
        "\n",
        "def preprocess_text(text):\n",
        "    # Mapping of common expiry and manufacturing-related keywords\n",
        "    keywords_map = {\n",
        "        \"EXP\": [\"XP\", \"EX\", \"EXR\"],\n",
        "        \"MFD\": [\"MFR\", \"MF\", \"MFG\"],\n",
        "        \"PROD\": [\"PRO\", \"PRD\", \"PD\"]\n",
        "    }\n",
        "\n",
        "    # Mapping for month abbreviations to correct common typos\n",
        "    month_map = {\n",
        "        \"JAN\": [\"JAN\", \"JNA\", \"JANUARY\"],\n",
        "        \"FEB\": [\"FEB\", \"FEBRUARY\"],\n",
        "        \"MAR\": [\"MAR\", \"MARCH\"],\n",
        "        \"APR\": [\"APR\", \"APRL\", \"APRIL\"],\n",
        "        \"MAY\": [\"MAY\", \"MA\"],\n",
        "        \"JUN\": [\"JUN\", \"JN\", \"JUNE\"],\n",
        "        \"JUL\": [\"JUL\", \"JLY\", \"JULY\"],\n",
        "        \"AUG\": [\"AUG\", \"AG\", \"AUGUST\"],\n",
        "        \"SEP\": [\"SEP\", \"SEPT\", \"SEPTEMBER\"],\n",
        "        \"OCT\": [\"OCT\", \"OCTOBER\"],\n",
        "        \"NOV\": [\"NOV\", \"NOVEMBER\"],\n",
        "        \"DEC\": [\"DEC\", \"DECM\", \"DECEMBER\"]\n",
        "    }\n",
        "\n",
        "    # Normalize common keywords\n",
        "    for correct_word, variations in keywords_map.items():\n",
        "        for variant in variations:\n",
        "            text = re.sub(r'\\b' + variant + r'\\b', correct_word, text, flags=re.IGNORECASE)\n",
        "\n",
        "    # Normalize month abbreviations\n",
        "    for correct_month, variations in month_map.items():\n",
        "        for variant in variations:\n",
        "            text = re.sub(r'\\b' + variant + r'\\b', correct_month, text, flags=re.IGNORECASE)\n",
        "\n",
        "    # Remove unwanted characters\n",
        "    text = re.sub(r'[^A-Z0-9\\s:.-/]', ' ', text, flags=re.IGNORECASE)\n",
        "    text = re.sub(r'\\s+', ' ', text).strip()  # Normalize whitespace\n",
        "\n",
        "    return text\n",
        "\n",
        "# Example usage\n",
        "text = \"PROD: 03 NOV 2022 XP: 03 A I AY 2024 2357 TC R 0311040367\"\n",
        "cleaned_text = preprocess_text(text)\n",
        "print(cleaned_text)\n"
      ],
      "metadata": {
        "colab": {
          "base_uri": "https://localhost:8080/"
        },
        "id": "MyRvSEybBk5H",
        "outputId": "785dbf7a-bf1d-4a54-abfc-f21e05d2e3da"
      },
      "execution_count": null,
      "outputs": [
        {
          "output_type": "stream",
          "name": "stdout",
          "text": [
            "PROD: 03 NOV 2022 EXP: 03 A I AY 2024 2357 TC R 0311040367\n"
          ]
        }
      ]
    },
    {
      "cell_type": "code",
      "source": [
        "import re\n",
        "\n",
        "def preprocess_text(text):\n",
        "    # Mapping of common expiry and manufacturing-related keywords\n",
        "    keywords_map = {\n",
        "        \"EXP\": [\"XP\", \"EX\", \"EXR\"],\n",
        "        \"MFD\": [\"MFR\", \"MF\", \"MFG\"],\n",
        "        \"PROD\": [\"PRO\", \"PRD\", \"PD\"]\n",
        "    }\n",
        "\n",
        "    # Mapping for month abbreviations to correct common typos\n",
        "    month_map = {\n",
        "        \"JAN\": [\"JAN\", \"JNA\", \"JANUARY\"],\n",
        "        \"FEB\": [\"FEB\", \"FEBRUARY\"],\n",
        "        \"MAR\": [\"MAR\", \"MARCH\"],\n",
        "        \"APR\": [\"APR\", \"APRL\", \"APRIL\"],\n",
        "        \"MAY\": [\"MAY\", \"MA\"],\n",
        "        \"JUN\": [\"JUN\", \"JN\", \"JUNE\"],\n",
        "        \"JUL\": [\"JUL\", \"JLY\", \"JULY\"],\n",
        "        \"AUG\": [\"AUG\", \"AG\", \"AUGUST\"],\n",
        "        \"SEP\": [\"SEP\", \"SEPT\", \"SEPTEMBER\"],\n",
        "        \"OCT\": [\"OCT\", \"OCTOBER\"],\n",
        "        \"NOV\": [\"NOV\", \"NOVEMBER\"],\n",
        "        \"DEC\": [\"DEC\", \"DECM\", \"DECEMBER\"]\n",
        "    }\n",
        "\n",
        "    # Normalize common keywords\n",
        "    for correct_word, variations in keywords_map.items():\n",
        "        for variant in variations:\n",
        "            text = re.sub(r'\\b' + variant + r'\\b', correct_word, text, flags=re.IGNORECASE)\n",
        "\n",
        "    # Normalize month abbreviations\n",
        "    for correct_month, variations in month_map.items():\n",
        "        for variant in variations:\n",
        "            text = re.sub(r'\\b' + variant + r'\\b', correct_month, text, flags=re.IGNORECASE)\n",
        "\n",
        "    # Remove unwanted characters\n",
        "    text = re.sub(r'[^A-Z0-9\\s:.-/]', ' ', text, flags=re.IGNORECASE)\n",
        "    text = re.sub(r'\\s+', ' ', text).strip()  # Normalize whitespace\n",
        "\n",
        "    return text\n",
        "\n",
        "def detect_expiry_date(text):\n",
        "    # Preprocess the text\n",
        "    cleaned_text = preprocess_text(text)\n",
        "\n",
        "    # Refined regex pattern for expiry date detection\n",
        "    expiry_pattern = r'(?i)(?:exp|expiry|expires|expiry date|use by|EXP|MFD|PROD|XP)?\\.?\\s*[:\\-]?\\s*(\\d{1,2}\\s*\\w{3}\\s*\\d{2,4}|\\w+\\s*\\d{1,2}\\s*,?\\s*\\d{2,4}|\\d{1,2}\\s*[-\\/]\\s*\\d{2,4}|\\d{1,2}\\s*\\w\\s\\w\\s\\w+\\s\\d{4})'\n",
        "\n",
        "    # Search for matches\n",
        "    match = re.search(expiry_pattern, cleaned_text)\n",
        "    if match:\n",
        "        return match.group(1)\n",
        "    else:\n",
        "        return None\n",
        "\n",
        "# Test Cases\n",
        "test_cases = [\n",
        "    \"PROD: 03 NOV 2022 XP: 03 A I AY 2024 2357 TC R 0311040367\",\n",
        "    \"B.No.GS21755 MFD.JUL.22 EXP.JUN.24 M.R.P.RS.46.75 FOR 10 TABS. (INCL.OFALL TAXES)\",\n",
        "    \"Use By: 12/2025\",\n",
        "    \"Expiry Date: 30-11-2023\",\n",
        "    \"EXPIRY: October 12, 2024\",\n",
        "    \"XP: 5 SEP 2023\",\n",
        "    \"Expires 07/2026\",\n",
        "    \"MFD 01-FEB-22 EXP 12-DEC-24\"\n",
        "]\n",
        "\n",
        "# Testing the function\n",
        "for i, test in enumerate(test_cases, 1):\n",
        "    result = detect_expiry_date(test)\n",
        "    print(f\"Test Case {i}: {test}\\nDetected Expiry Date: {result}\\n\")\n"
      ],
      "metadata": {
        "colab": {
          "base_uri": "https://localhost:8080/"
        },
        "id": "UeDoGpi9Bleq",
        "outputId": "388c1c4b-8349-4740-9574-76c001a5ab2a"
      },
      "execution_count": null,
      "outputs": [
        {
          "output_type": "stream",
          "name": "stdout",
          "text": [
            "Test Case 1: PROD: 03 NOV 2022 XP: 03 A I AY 2024 2357 TC R 0311040367\n",
            "Detected Expiry Date: 03 NOV 2022\n",
            "\n",
            "Test Case 2: B.No.GS21755 MFD.JUL.22 EXP.JUN.24 M.R.P.RS.46.75 FOR 10 TABS. (INCL.OFALL TAXES)\n",
            "Detected Expiry Date: GS21755\n",
            "\n",
            "Test Case 3: Use By: 12/2025\n",
            "Detected Expiry Date: 12/2025\n",
            "\n",
            "Test Case 4: Expiry Date: 30-11-2023\n",
            "Detected Expiry Date: 30 11 2023\n",
            "\n",
            "Test Case 5: EXPIRY: October 12, 2024\n",
            "Detected Expiry Date: OCT 12 2024\n",
            "\n",
            "Test Case 6: XP: 5 SEP 2023\n",
            "Detected Expiry Date: 5 SEP 2023\n",
            "\n",
            "Test Case 7: Expires 07/2026\n",
            "Detected Expiry Date: 07/2026\n",
            "\n",
            "Test Case 8: MFD 01-FEB-22 EXP 12-DEC-24\n",
            "Detected Expiry Date: 01 FEB 22\n",
            "\n"
          ]
        }
      ]
    },
    {
      "cell_type": "code",
      "source": [
        "import re\n",
        "\n",
        "def preprocess_text(text):\n",
        "    # Mapping of common expiry and manufacturing-related keywords\n",
        "    keywords_map = {\n",
        "        \"EXP\": [\"XP\", \"EX\", \"EXR\",\"Expires\"],\n",
        "        \"MFD\": [\"MFR\", \"MF\", \"MFG\", \"PROD\"]  # Treat \"PROD\" as equivalent to \"MFD\"\n",
        "    }\n",
        "\n",
        "    # Mapping for month abbreviations to correct common typos\n",
        "    month_map = {\n",
        "        \"JAN\": [\"JAN\", \"JNA\", \"JANUARY\"],\n",
        "        \"FEB\": [\"FEB\", \"FEBRUARY\"],\n",
        "        \"MAR\": [\"MAR\", \"MARCH\"],\n",
        "        \"APR\": [\"APR\", \"APRL\", \"APRIL\"],\n",
        "        \"MAY\": [\"MAY\", \"MA\"],\n",
        "        \"JUN\": [\"JUN\", \"JN\", \"JUNE\"],\n",
        "        \"JUL\": [\"JUL\", \"JLY\", \"JULY\"],\n",
        "        \"AUG\": [\"AUG\", \"AG\", \"AUGUST\"],\n",
        "        \"SEP\": [\"SEP\", \"SEPT\", \"SEPTEMBER\"],\n",
        "        \"OCT\": [\"OCT\", \"OCTOBER\"],\n",
        "        \"NOV\": [\"NOV\", \"NOVEMBER\"],\n",
        "        \"DEC\": [\"DEC\", \"DECM\", \"DECEMBER\"]\n",
        "    }\n",
        "\n",
        "    # Normalize common keywords\n",
        "    for correct_word, variations in keywords_map.items():\n",
        "        for variant in variations:\n",
        "            text = re.sub(r'\\b' + variant + r'\\b', correct_word, text, flags=re.IGNORECASE)\n",
        "\n",
        "    # Normalize month abbreviations\n",
        "    for correct_month, variations in month_map.items():\n",
        "        for variant in variations:\n",
        "            text = re.sub(r'\\b' + variant + r'\\b', correct_month, text, flags=re.IGNORECASE)\n",
        "\n",
        "    # Remove unwanted characters\n",
        "    text = text.upper()\n",
        "    text = re.sub(r'[^A-Z0-9\\s:.-/]', ' ', text, flags=re.IGNORECASE)\n",
        "    text = re.sub(r'\\s+', ' ', text).strip()  # Normalize whitespace\n",
        "\n",
        "    return text\n",
        "\n",
        "def detect_expiry_date(text):\n",
        "    # Preprocess the text\n",
        "    cleaned_text = preprocess_text(text)\n",
        "    # print(cleaned_text)\n",
        "    # Refined regex pattern for expiry date detection\n",
        "    # expiry_pattern = r'(?i)(?:exp|expiry|expires|expiry date|use by|EXP|XP)?\\.?\\s*[:\\-]?\\s*(\\d{1,2}\\s*\\w{3}\\s*\\d{2,4}|\\w+\\s*\\d{1,2}\\s*,?\\s*\\d{2,4}|\\d{1,2}\\s*[-\\/]\\s*\\d{2,4}|\\d{1,2}\\s*\\w\\s\\w\\s\\w+\\s\\d{4})'\n",
        "    # expiry_pattern = r'(?i)(?:\\bEXP(?:IRY)?\\b|USE BY|EXP|XP)\\s*\\.?\\s*[:\\-]?\\s*(\\d{1,2}\\s*\\w{3}\\s*\\d{2,4}|\\w+\\s*\\d{1,2}\\s*,?\\s*\\d{2,4}|\\d{1,2}\\s*[-\\/]\\s*\\d{2,4}|\\d{1,2}\\s*\\w{1}\\s\\w{1}\\s\\w{1,}\\s\\d{4})'\n",
        "    # Search for matches\n",
        "    # expiry_pattern = r'(?i)(?:\\bEXP(?:IRY)?\\b|USE BY|EXP|XP|EXPIRY DATE)\\s*\\.?\\s*[:\\-]?\\s*(\\d{1,2}\\s*\\w{3}\\s*\\d{2,4}|\\w+\\s*\\d{1,2}\\s*,?\\s*\\d{2,4}|\\d{1,2}\\s*[-\\/]\\s*\\d{1,2}\\s*[-\\/]?\\s*\\d{2,4}|\\d{1,2}\\s*[-\\/]?\\s*\\d{4}|\\d{1,2}\\s*\\w{3}\\s*\\d{4})'\n",
        "\n",
        "    expiry_pattern = (\n",
        "          r'(?i)(?:\\bEXP(?:IRY)?\\b|USE BY|EXP|XP|EXPIRY DATE)\\s*\\.?\\s*[:\\-]?\\s*'  # Keywords for expiry\n",
        "          r'(\\d{1,2}\\s*\\w{3}\\s*\\d{2,4}|'  # Matches DD MMM YYYY (e.g., 30 NOV 2023)\n",
        "          r'\\w+\\s*\\d{1,2}\\s*,?\\s*\\d{2,4}|'  # Matches MMM DD, YYYY (e.g., DEC 25, 2024)\n",
        "          r'\\d{1,2}\\s*[-\\/]\\s*\\d{1,2}\\s*[-\\/]?\\s*\\d{2,4}|'  # Matches MM-DD-YYYY or MM/DD/YYYY\n",
        "          r'\\d{1,2}\\s*[-\\/]?\\s*\\d{4}|'  # Matches MM/YYYY or DD-YYYY\n",
        "          r'\\d{1,2}\\s*\\w{3}\\s*\\d{4})'  # Matches DD MMM YYYY\n",
        "      )\n",
        "\n",
        "\n",
        "    match = re.search(expiry_pattern, cleaned_text)\n",
        "    if match:\n",
        "        # If there's only one group, return it; otherwise, return the entire match\n",
        "        return match.group(1)\n",
        "    else:\n",
        "        return None\n",
        "\n",
        "# Test Cases\n",
        "test_cases = [\n",
        "    \"PROD: 03 NOV 2022 XP: 03 MAY 2024 2357 TC R 0311040367\",\n",
        "    \"B.No.GS21755 MFD.JUL.22 EXP.JUN.24 M.R.P.RS.46.75 FOR 10 TABS. (INCL.OFALL TAXES)\",\n",
        "    \"Use By: 12/2025\",\n",
        "    \"Expiry Date: 30-11-2023\",\n",
        "    \"EXPIRY: October 12, 2024\",\n",
        "    \"XP: 5 SEP 2023\",\n",
        "    \"Expires: 07/2026\",\n",
        "    \"MFD 01-FEB-22 EXP 12-DEC-24\"\n",
        "]\n",
        "\n",
        "# Testing the function\n",
        "for i, test in enumerate(test_cases, 1):\n",
        "    result = detect_expiry_date(test)\n",
        "    print(f\"Test Case {i}: {test}\\nDetected Expiry Date: {result}\\n\")\n"
      ],
      "metadata": {
        "colab": {
          "base_uri": "https://localhost:8080/"
        },
        "id": "h9LGB68_B8VR",
        "outputId": "70888110-d43c-4105-ea93-63c89e4ab057"
      },
      "execution_count": null,
      "outputs": [
        {
          "output_type": "stream",
          "name": "stdout",
          "text": [
            "Test Case 1: PROD: 03 NOV 2022 XP: 03 MAY 2024 2357 TC R 0311040367\n",
            "Detected Expiry Date: 03 MAY 2024\n",
            "\n",
            "Test Case 2: B.No.GS21755 MFD.JUL.22 EXP.JUN.24 M.R.P.RS.46.75 FOR 10 TABS. (INCL.OFALL TAXES)\n",
            "Detected Expiry Date: None\n",
            "\n",
            "Test Case 3: Use By: 12/2025\n",
            "Detected Expiry Date: 12/2025\n",
            "\n",
            "Test Case 4: Expiry Date: 30-11-2023\n",
            "Detected Expiry Date: 30 11 2023\n",
            "\n",
            "Test Case 5: EXPIRY: October 12, 2024\n",
            "Detected Expiry Date: OCT 12 2024\n",
            "\n",
            "Test Case 6: XP: 5 SEP 2023\n",
            "Detected Expiry Date: 5 SEP 2023\n",
            "\n",
            "Test Case 7: Expires: 07/2026\n",
            "Detected Expiry Date: 07/2026\n",
            "\n",
            "Test Case 8: MFD 01-FEB-22 EXP 12-DEC-24\n",
            "Detected Expiry Date: 12 DEC 24\n",
            "\n"
          ]
        }
      ]
    },
    {
      "cell_type": "code",
      "source": [
        "image_file_test1 = '/content/test1.png'\n",
        "\n",
        "# Ensure all operations in chat are on the CUDA device\n",
        "res = model.chat(tokenizer, image_file_test1, ocr_type='ocr')\n",
        "\n",
        "print(res)"
      ],
      "metadata": {
        "colab": {
          "base_uri": "https://localhost:8080/"
        },
        "id": "lrs7ZEthDhcZ",
        "outputId": "45dc8282-dfcc-417f-cc2b-af19bdf1a47d"
      },
      "execution_count": null,
      "outputs": [
        {
          "output_type": "stream",
          "name": "stderr",
          "text": [
            "The attention mask and the pad token id were not set. As a consequence, you may observe unexpected behavior. Please pass your input's `attention_mask` to obtain reliable results.\n",
            "Setting `pad_token_id` to `eos_token_id`:151643 for open-end generation.\n"
          ]
        },
        {
          "output_type": "stream",
          "name": "stdout",
          "text": [
            "FE04E2 05:2022 04:2024 115.38\n"
          ]
        }
      ]
    },
    {
      "cell_type": "code",
      "source": [
        "result = detect_expiry_date(\"FE04E2 Use by: 05/2022 04/2024 115.38\")"
      ],
      "metadata": {
        "id": "FSlTEyAdJWjV"
      },
      "execution_count": null,
      "outputs": []
    },
    {
      "cell_type": "code",
      "source": [
        "result"
      ],
      "metadata": {
        "colab": {
          "base_uri": "https://localhost:8080/",
          "height": 35
        },
        "id": "Q945OHTYJ5vI",
        "outputId": "0ff5797e-82fa-4fe0-b10a-f29a09ce25a3"
      },
      "execution_count": null,
      "outputs": [
        {
          "output_type": "execute_result",
          "data": {
            "text/plain": [
              "'05/2022'"
            ],
            "application/vnd.google.colaboratory.intrinsic+json": {
              "type": "string"
            }
          },
          "metadata": {},
          "execution_count": 80
        }
      ]
    },
    {
      "cell_type": "code",
      "source": [
        "image_file_test2 = '/content/test2.png'\n",
        "\n",
        "# Ensure all operations in chat are on the CUDA device\n",
        "res2 = model.chat(tokenizer, image_file_test2, ocr_type='ocr')\n",
        "\n",
        "print(res2)"
      ],
      "metadata": {
        "colab": {
          "base_uri": "https://localhost:8080/"
        },
        "id": "V2a-aBD9J7fO",
        "outputId": "3d6f16a8-7e09-4afd-cc67-3693f57d33f2"
      },
      "execution_count": null,
      "outputs": [
        {
          "output_type": "stream",
          "name": "stderr",
          "text": [
            "The attention mask and the pad token id were not set. As a consequence, you may observe unexpected behavior. Please pass your input's `attention_mask` to obtain reliable results.\n",
            "Setting `pad_token_id` to `eos_token_id`:151643 for open-end generation.\n"
          ]
        },
        {
          "output_type": "stream",
          "name": "stdout",
          "text": [
            "Aconsommerdepreferenceavantle/ Bestbefore/ FR Consumirpreferentementeantesdel/ 35-239-001 Aconsumirdepreferenciaantesde: CE 22.10.2020 EXP 22.10.2021 125g Poidsnet: 3228020481846\n"
          ]
        }
      ]
    },
    {
      "cell_type": "code",
      "source": [
        "result2 = detect_expiry_date(\"CE 22.10.2020 EXP: 22.10.2021\")\n",
        "result2"
      ],
      "metadata": {
        "id": "MUJgJB1xK7Bk"
      },
      "execution_count": null,
      "outputs": []
    },
    {
      "cell_type": "code",
      "source": [],
      "metadata": {
        "id": "tBCyrLJVLHPf"
      },
      "execution_count": null,
      "outputs": []
    }
  ]
}